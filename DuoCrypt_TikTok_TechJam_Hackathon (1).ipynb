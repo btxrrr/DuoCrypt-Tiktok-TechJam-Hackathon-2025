{
  "nbformat": 4,
  "nbformat_minor": 0,
  "metadata": {
    "colab": {
      "provenance": [],
      "gpuType": "T4"
    },
    "kernelspec": {
      "name": "python3",
      "display_name": "Python 3"
    },
    "language_info": {
      "name": "python"
    },
    "accelerator": "GPU"
  },
  "cells": [
    {
      "cell_type": "code",
      "source": [
        "!pip install transformers\n",
        "!pip install pycryptodome"
      ],
      "metadata": {
        "id": "3_b2AWoS2H0B",
        "colab": {
          "base_uri": "https://localhost:8080/"
        },
        "outputId": "1f359585-ed42-49af-85b0-a4242544a5d2"
      },
      "execution_count": 20,
      "outputs": [
        {
          "output_type": "stream",
          "name": "stdout",
          "text": [
            "Requirement already satisfied: transformers in /usr/local/lib/python3.12/dist-packages (4.55.4)\n",
            "Requirement already satisfied: filelock in /usr/local/lib/python3.12/dist-packages (from transformers) (3.19.1)\n",
            "Requirement already satisfied: huggingface-hub<1.0,>=0.34.0 in /usr/local/lib/python3.12/dist-packages (from transformers) (0.34.4)\n",
            "Requirement already satisfied: numpy>=1.17 in /usr/local/lib/python3.12/dist-packages (from transformers) (2.0.2)\n",
            "Requirement already satisfied: packaging>=20.0 in /usr/local/lib/python3.12/dist-packages (from transformers) (25.0)\n",
            "Requirement already satisfied: pyyaml>=5.1 in /usr/local/lib/python3.12/dist-packages (from transformers) (6.0.2)\n",
            "Requirement already satisfied: regex!=2019.12.17 in /usr/local/lib/python3.12/dist-packages (from transformers) (2024.11.6)\n",
            "Requirement already satisfied: requests in /usr/local/lib/python3.12/dist-packages (from transformers) (2.32.4)\n",
            "Requirement already satisfied: tokenizers<0.22,>=0.21 in /usr/local/lib/python3.12/dist-packages (from transformers) (0.21.4)\n",
            "Requirement already satisfied: safetensors>=0.4.3 in /usr/local/lib/python3.12/dist-packages (from transformers) (0.6.2)\n",
            "Requirement already satisfied: tqdm>=4.27 in /usr/local/lib/python3.12/dist-packages (from transformers) (4.67.1)\n",
            "Requirement already satisfied: fsspec>=2023.5.0 in /usr/local/lib/python3.12/dist-packages (from huggingface-hub<1.0,>=0.34.0->transformers) (2025.3.0)\n",
            "Requirement already satisfied: typing-extensions>=3.7.4.3 in /usr/local/lib/python3.12/dist-packages (from huggingface-hub<1.0,>=0.34.0->transformers) (4.15.0)\n",
            "Requirement already satisfied: hf-xet<2.0.0,>=1.1.3 in /usr/local/lib/python3.12/dist-packages (from huggingface-hub<1.0,>=0.34.0->transformers) (1.1.8)\n",
            "Requirement already satisfied: charset_normalizer<4,>=2 in /usr/local/lib/python3.12/dist-packages (from requests->transformers) (3.4.3)\n",
            "Requirement already satisfied: idna<4,>=2.5 in /usr/local/lib/python3.12/dist-packages (from requests->transformers) (3.10)\n",
            "Requirement already satisfied: urllib3<3,>=1.21.1 in /usr/local/lib/python3.12/dist-packages (from requests->transformers) (2.5.0)\n",
            "Requirement already satisfied: certifi>=2017.4.17 in /usr/local/lib/python3.12/dist-packages (from requests->transformers) (2025.8.3)\n",
            "Requirement already satisfied: pycryptodome in /usr/local/lib/python3.12/dist-packages (3.23.0)\n"
          ]
        }
      ]
    },
    {
      "cell_type": "code",
      "execution_count": 21,
      "metadata": {
        "id": "IyrgGuW4DlOX"
      },
      "outputs": [],
      "source": [
        "import torch\n",
        "import os\n",
        "import re\n",
        "from Crypto.Cipher import AES\n",
        "from transformers import AutoTokenizer, AutoModelForTokenClassification\n",
        "\n",
        "pii_mapping = {}  # store ciphertext -> key/iv for later decryption\n",
        "\n",
        "model_name = \"iiiorg/piiranha-v1-detect-personal-information\"\n",
        "tokenizer = AutoTokenizer.from_pretrained(model_name)\n",
        "model = AutoModelForTokenClassification.from_pretrained(model_name)\n",
        "\n",
        "device = torch.device(\"cuda\" if torch.cuda.is_available() else \"cpu\")\n",
        "model.to(device)\n",
        "\n",
        "def mask_pii(text, aggregate_redaction=True):\n",
        "    # Tokenize input text\n",
        "    inputs = tokenizer(text, return_tensors=\"pt\", truncation=True, padding=True)\n",
        "    inputs = {k: v.to(device) for k, v in inputs.items()}\n",
        "\n",
        "    # Get the model predictions\n",
        "    with torch.no_grad():\n",
        "        outputs = model(**inputs)\n",
        "\n",
        "    # Get the predicted labels\n",
        "    predictions = torch.argmax(outputs.logits, dim=-1)\n",
        "\n",
        "    # Convert token predictions to word predictions\n",
        "    encoded_inputs = tokenizer.encode_plus(text, return_offsets_mapping=True, add_special_tokens=True)\n",
        "    offset_mapping = encoded_inputs['offset_mapping']\n",
        "\n",
        "    masked_text = list(text)\n",
        "    is_redacting = False\n",
        "    redaction_start = 0\n",
        "    current_pii_type = ''\n",
        "\n",
        "    for i, (start, end) in enumerate(offset_mapping):\n",
        "        if start == end:  # Special token\n",
        "            continue\n",
        "\n",
        "        label = predictions[0][i].item()\n",
        "        if label != model.config.label2id['O']:  # Non-O label\n",
        "            pii_type = model.config.id2label[label]\n",
        "            if not is_redacting:\n",
        "                is_redacting = True\n",
        "                redaction_start = start\n",
        "                current_pii_type = pii_type\n",
        "            elif not aggregate_redaction and pii_type != current_pii_type:\n",
        "                # End current redaction and start a new one\n",
        "                apply_redaction(masked_text, redaction_start, start, current_pii_type, aggregate_redaction)\n",
        "                current_pii_type = pii_type\n",
        "        else:\n",
        "            if is_redacting:\n",
        "                apply_redaction(masked_text, redaction_start, end, current_pii_type, aggregate_redaction)\n",
        "                is_redacting = False\n",
        "\n",
        "\n",
        "    # Handle case where PII is at the end of the text\n",
        "    if is_redacting:\n",
        "        apply_redaction(masked_text, redaction_start, len(masked_text), current_pii_type, aggregate_redaction)\n",
        "\n",
        "    return ''.join(masked_text)\n",
        "\n",
        "def apply_redaction(masked_text, start, end, pii_type, aggregate_redaction):\n",
        "    original_text = ''.join(masked_text[start:end])   # <-- Grab original substring here\n",
        "    #print(f\"Detected PII ({pii_type}): {original_text}\")\n",
        "\n",
        "    for j in range(start, end):\n",
        "        masked_text[j] = ''\n",
        "    if aggregate_redaction:\n",
        "        key, iv, ciphertext = encrypt_text(original_text)\n",
        "        if key and iv:\n",
        "           #print(\"Text encrypted successfully.\")\n",
        "           #print(\"Key:\", key)\n",
        "           #print(\"IV:\", iv)\n",
        "           masked_text[start] = f\"[{ciphertext}]\"\n",
        "           decrypt_text(key, iv, ciphertext)\n",
        "           # Store mapping for later decryption\n",
        "           pii_mapping[ciphertext] = {\n",
        "                \"key\": key,\n",
        "                \"iv\": iv,\n",
        "                \"pii_type\": pii_type,\n",
        "                \"original\": original_text\n",
        "            }\n",
        "\n",
        "           #print(\"File decrypted successfully.\")\n",
        "\n",
        "        else:\n",
        "           print(\"Encryption failed.\") #instead of redacting the pii we can encrypt it\n",
        "    else:\n",
        "        masked_text[start] = f'[{pii_type}]'\n",
        "\n",
        "\n",
        "#=============================== Encryption and Decryption ===============================\n",
        "#AES Encryption\n",
        "#First, we need to pad\n",
        "def pad(data):\n",
        "  data = data.encode(\"utf-8\")\n",
        "  padding_length = 16 - len(data) % 16\n",
        "  padding = bytes([padding_length] * padding_length)\n",
        "  return data + padding\n",
        "\n",
        "def unpad(data):\n",
        "    padding_length = data[-1]\n",
        "    if padding_length < 1 or padding_length > 16:\n",
        "        raise ValueError(\"Invalid padding encountered\")\n",
        "    return data[:-padding_length]\n",
        "\n",
        "#AES256 Encryption\n",
        "def encrypt_text(input_text):\n",
        "  key = os.urandom(32)\n",
        "  iv = os.urandom(16)\n",
        "  cipher = AES.new(key, AES.MODE_CBC, iv)\n",
        "  try:\n",
        "    plaintext = input_text\n",
        "    padded_plaintext = pad(plaintext)\n",
        "    ciphertext = cipher.encrypt(padded_plaintext)\n",
        "    #print(\"The ciphertext is \", ciphertext.hex())\n",
        "    encoded_key = key.hex()\n",
        "    encoded_iv = iv.hex()\n",
        "    return encoded_key, encoded_iv, ciphertext.hex()\n",
        "  except Exception as e:\n",
        "        print(f\"An error occurred during encryption: {e}\")\n",
        "        return None, None\n",
        "\n",
        "#AES Decryption\n",
        "def decrypt_text(key, iv, input_text):\n",
        "    try:\n",
        "        decoded_key = bytes.fromhex(key)\n",
        "        iv_bytes = bytes.fromhex(iv)\n",
        "        encrypted_data = bytes.fromhex(input_text)\n",
        "        if len(decoded_key) != 32:\n",
        "            raise ValueError(\"Incorrect AES key length\")\n",
        "        cipher = AES.new(decoded_key, AES.MODE_CBC, iv_bytes)\n",
        "        decrypted_data = unpad(cipher.decrypt(encrypted_data))\n",
        "        #print(\"Decrypted data:\", decrypted_data.decode(\"utf-8\"))\n",
        "        return decrypted_data.decode(\"utf-8\")\n",
        "    except Exception as e:\n",
        "        print(f\"An error occurred during decryption: {e}\")\n",
        "\n",
        "\n",
        "def decrypt_text(key, iv, input_text):\n",
        "    try:\n",
        "        decoded_key = bytes.fromhex(key)\n",
        "        iv_bytes = bytes.fromhex(iv)\n",
        "        encrypted_data = bytes.fromhex(input_text)\n",
        "        cipher = AES.new(decoded_key, AES.MODE_CBC, iv_bytes)\n",
        "        decrypted_data = unpad(cipher.decrypt(encrypted_data))\n",
        "        return decrypted_data.decode(\"utf-8\")\n",
        "    except Exception as e:\n",
        "        print(f\"Decryption error: {e}\")\n",
        "        return \"[DECRYPTION_FAILED]\"\n",
        "\n",
        "# ------------------- Restore full sentence -------------------\n",
        "def restore_plaintext(masked_sentence):\n",
        "    def decrypt_match(match):\n",
        "        ciphertext = match.group(1)\n",
        "        if ciphertext in pii_mapping:\n",
        "            key = pii_mapping[ciphertext][\"key\"]\n",
        "            iv = pii_mapping[ciphertext][\"iv\"]\n",
        "            return decrypt_text(key, iv, ciphertext)\n",
        "        else:\n",
        "            return \"[UNKNOWN]\"\n",
        "    pattern = r\"\\[([0-9a-fA-F]+)\\]\"\n",
        "    restored_sentence = re.sub(pattern, decrypt_match, masked_sentence)\n",
        "    return restored_sentence\n",
        "\n"
      ]
    },
    {
      "cell_type": "code",
      "source": [
        "# Example usage\n",
        "example_text = \"My name is Obee Nobi and I live at 432423 Deka St, Tanooti. My phone number is 5455-123-4567.\"\n",
        "\n",
        "print(\"Aggregated Encryption:\")\n",
        "masked_example_aggregated = mask_pii(example_text, aggregate_redaction=True)\n",
        "print(masked_example_aggregated)"
      ],
      "metadata": {
        "colab": {
          "base_uri": "https://localhost:8080/"
        },
        "id": "G2A1X1hi9BMi",
        "outputId": "a4e91674-f409-4f7b-d8d7-9af8f7b64943"
      },
      "execution_count": 22,
      "outputs": [
        {
          "output_type": "stream",
          "name": "stderr",
          "text": [
            "Asking to truncate to max_length but no maximum length is provided and the model has no predefined maximum length. Default to no truncation.\n"
          ]
        },
        {
          "output_type": "stream",
          "name": "stdout",
          "text": [
            "Aggregated Encryption:\n",
            "My name is[3a70ad0d4b429f784bc24b21d4ae4d6d] I live at[ffe4d8458aa84beeef33df3ad73e8e9a],[4c21bf15edcef61a743c232bffcd8fdd] My phone number is[252206487bac3d1a130c42d4f575bfd3]\n"
          ]
        }
      ]
    },
    {
      "cell_type": "markdown",
      "source": [],
      "metadata": {
        "id": "SdacP_vWOJpQ"
      }
    },
    {
      "cell_type": "markdown",
      "source": [],
      "metadata": {
        "id": "BRTWHZZLOJmI"
      }
    },
    {
      "cell_type": "code",
      "source": [
        "#Decryption\n",
        "restored = restore_plaintext(\"My name is[3a70ad0d4b429f784bc24b21d4ae4d6d] I live at[ffe4d8458aa84beeef33df3ad73e8e9a],[4c21bf15edcef61a743c232bffcd8fdd] My phone number is[252206487bac3d1a130c42d4f575bfd3]\")\n",
        "print(\"\\nRestored Plaintext:\", restored)"
      ],
      "metadata": {
        "id": "yxP1kkPcN7fh",
        "outputId": "2704ef86-548a-41f2-f04a-f0f9156293cd",
        "colab": {
          "base_uri": "https://localhost:8080/"
        }
      },
      "execution_count": 24,
      "outputs": [
        {
          "output_type": "stream",
          "name": "stdout",
          "text": [
            "\n",
            "Restored Plaintext: My name is Obee Nobi and I live at 432423 Deka St, Tanooti. My phone number is 5455-123-4567.\n"
          ]
        }
      ]
    }
  ]
}